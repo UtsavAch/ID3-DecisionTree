{
 "cells": [
  {
   "cell_type": "code",
   "execution_count": 1,
   "id": "fc2a666f",
   "metadata": {},
   "outputs": [],
   "source": [
    "import pandas as pd\n",
    "from id3 import DecisionTree\n",
    "from pre_process import train_test_split, get_target_name\n",
    "from metrics import confusion_matrix, evaluate_metrics"
   ]
  },
  {
   "cell_type": "code",
   "execution_count": 2,
   "id": "f83bab2d",
   "metadata": {},
   "outputs": [],
   "source": [
    "# Load the dataset (Uncomment the dataset that you want to train)\n",
    "#file_path = 'weather.csv'\n",
    "file_path = 'iris.csv'\n",
    "#file_path = 'restaurant.csv'\n",
    "data = pd.read_csv(file_path)\n",
    "\n",
    "#NOTE:- There is a SEPARATE NOTEBOOK for \"CONNECT4\" dataset"
   ]
  },
  {
   "cell_type": "code",
   "execution_count": 3,
   "id": "ee529e15",
   "metadata": {},
   "outputs": [],
   "source": [
    "# Remove 'ID' column from the dataset\n",
    "data = data.drop('ID', axis=1)"
   ]
  },
  {
   "cell_type": "code",
   "execution_count": 4,
   "id": "d5983dea",
   "metadata": {},
   "outputs": [],
   "source": [
    "# Split the dataset into train and test\n",
    "train, test = train_test_split(data, 0.7)"
   ]
  },
  {
   "cell_type": "code",
   "execution_count": 5,
   "id": "cbf90c9f",
   "metadata": {},
   "outputs": [
    {
     "name": "stdout",
     "output_type": "stream",
     "text": [
      "{'petallength': {'<=2.5999999999999996': 'Iris-setosa', '>2.5999999999999996': {'petalwidth': {'<=1.7': {'sepallength': {'<=7.050000000000001': {'sepalwidth': {'<=2.8': 'Iris-versicolor', '>2.8': 'Iris-versicolor'}}, '>7.050000000000001': 'Iris-virginica'}}, '>1.7': {'sepallength': {'<=5.9': {'sepalwidth': {'<=3.1': 'Iris-virginica', '>3.1': 'Iris-versicolor'}}, '>5.9': 'Iris-virginica'}}}}}}\n"
     ]
    }
   ],
   "source": [
    "# Instantiate and fit the DecisionTree model\n",
    "tree_model = DecisionTree(max_depth=None) #You can set any depth you want, since these datasets are small you don't need to\n",
    "tree_model.fit(train, get_target_name(data))\n",
    "print(tree_model.tree)"
   ]
  },
  {
   "cell_type": "code",
   "execution_count": 6,
   "id": "742b6f98",
   "metadata": {},
   "outputs": [
    {
     "name": "stdout",
     "output_type": "stream",
     "text": [
      "    sepallength sepalwidth petallength petalwidth            class\n",
      "0           4.6        3.4         1.4        0.3      Iris-setosa\n",
      "1           5.0        3.5         1.6        0.6      Iris-setosa\n",
      "2           5.7        4.4         1.5        0.4      Iris-setosa\n",
      "3           5.7        2.9         4.2        1.3  Iris-versicolor\n",
      "4           6.5        2.8         4.6        1.5  Iris-versicolor\n",
      "..          ...        ...         ...        ...              ...\n",
      "100         6.7        3.0         5.0        1.7  Iris-versicolor\n",
      "101         6.2        3.4         5.4        2.3   Iris-virginica\n",
      "102         6.2        2.9         4.3        1.3  Iris-versicolor\n",
      "103         5.6        2.7         4.2        1.3  Iris-versicolor\n",
      "104         6.6        2.9         4.6        1.3  Iris-versicolor\n",
      "\n",
      "[105 rows x 5 columns]\n",
      "---------------------------------------------------\n",
      "   sepallength sepalwidth petallength petalwidth            class\n",
      "0          5.0        3.4         1.6        0.4      Iris-setosa\n",
      "1          5.4        3.9         1.7        0.4      Iris-setosa\n",
      "2          5.0        3.6         1.4        0.2      Iris-setosa\n",
      "3          5.2        4.1         1.5        0.1      Iris-setosa\n",
      "4          5.1        3.5         1.4        0.2      Iris-setosa\n",
      "5          4.9        3.1         1.5        0.1      Iris-setosa\n",
      "6          4.8        3.4         1.9        0.2      Iris-setosa\n",
      "7          6.4        2.8         5.6        2.2   Iris-virginica\n",
      "8          6.5        3.0         5.8        2.2   Iris-virginica\n",
      "9          7.1        3.0         5.9        2.1   Iris-virginica\n",
      "10         5.7        3.0         4.2        1.2  Iris-versicolor\n",
      "11         4.3        3.0         1.1        0.1      Iris-setosa\n",
      "12         6.0        2.2         5.0        1.5   Iris-virginica\n",
      "13         5.7        2.8         4.1        1.3  Iris-versicolor\n",
      "14         6.5        3.2         5.1        2.0   Iris-virginica\n",
      "15         6.7        2.5         5.8        1.8   Iris-virginica\n",
      "16         6.0        2.9         4.5        1.5  Iris-versicolor\n",
      "17         4.6        3.6         1.0        0.2      Iris-setosa\n",
      "18         5.1        3.4         1.5        0.2      Iris-setosa\n",
      "19         7.2        3.2         6.0        1.8   Iris-virginica\n",
      "20         7.0        3.2         4.7        1.4  Iris-versicolor\n",
      "21         5.8        2.6         4.0        1.2  Iris-versicolor\n",
      "22         6.1        2.8         4.7        1.2  Iris-versicolor\n",
      "23         6.9        3.2         5.7        2.3   Iris-virginica\n",
      "24         6.0        3.0         4.8        1.8   Iris-virginica\n",
      "25         7.7        3.8         6.7        2.2   Iris-virginica\n",
      "26         6.9        3.1         5.4        2.1   Iris-virginica\n",
      "27         4.4        3.0         1.3        0.2      Iris-setosa\n",
      "28         6.6        3.0         4.4        1.4  Iris-versicolor\n",
      "29         6.3        2.3         4.4        1.3  Iris-versicolor\n",
      "30         5.5        2.3         4.0        1.3  Iris-versicolor\n",
      "31         5.1        3.8         1.6        0.2      Iris-setosa\n",
      "32         5.8        2.7         4.1        1.0  Iris-versicolor\n",
      "33         5.8        2.7         5.1        1.9   Iris-virginica\n",
      "34         6.0        2.7         5.1        1.6  Iris-versicolor\n",
      "35         5.8        4.0         1.2        0.2      Iris-setosa\n",
      "36         5.1        2.5         3.0        1.1  Iris-versicolor\n",
      "37         6.3        2.5         5.0        1.9   Iris-virginica\n",
      "38         6.7        3.3         5.7        2.5   Iris-virginica\n",
      "39         5.5        2.4         3.8        1.1  Iris-versicolor\n",
      "40         6.7        3.0         5.2        2.3   Iris-virginica\n",
      "41         5.7        3.8         1.7        0.3      Iris-setosa\n",
      "42         6.3        2.5         4.9        1.5  Iris-versicolor\n",
      "43         6.4        2.9         4.3        1.3  Iris-versicolor\n",
      "44         5.1        3.3         1.7        0.5      Iris-setosa\n"
     ]
    }
   ],
   "source": [
    "#Print the test data\n",
    "print(train)\n",
    "print(\"---------------------------------------------------\")\n",
    "print(test)"
   ]
  },
  {
   "cell_type": "code",
   "execution_count": 119,
   "id": "488f800c",
   "metadata": {},
   "outputs": [
    {
     "name": "stdout",
     "output_type": "stream",
     "text": [
      "True: Iris-virginica => Predicted: Iris-virginica\n",
      "True: Iris-virginica => Predicted: Iris-virginica\n",
      "True: Iris-virginica => Predicted: Iris-virginica\n",
      "True: Iris-virginica => Predicted: Iris-virginica\n",
      "True: Iris-setosa => Predicted: Iris-setosa\n",
      "True: Iris-virginica => Predicted: Iris-virginica\n",
      "True: Iris-setosa => Predicted: Iris-setosa\n",
      "True: Iris-versicolor => Predicted: Iris-versicolor\n",
      "True: Iris-setosa => Predicted: Iris-setosa\n",
      "True: Iris-setosa => Predicted: Iris-setosa\n",
      "True: Iris-versicolor => Predicted: Iris-versicolor\n",
      "True: Iris-setosa => Predicted: Iris-setosa\n",
      "True: Iris-versicolor => Predicted: Iris-versicolor\n",
      "True: Iris-virginica => Predicted: Iris-versicolor\n",
      "True: Iris-virginica => Predicted: Iris-virginica\n",
      "True: Iris-virginica => Predicted: Iris-virginica\n",
      "True: Iris-versicolor => Predicted: Iris-versicolor\n",
      "True: Iris-virginica => Predicted: Iris-virginica\n",
      "True: Iris-versicolor => Predicted: Iris-versicolor\n",
      "True: Iris-setosa => Predicted: Iris-setosa\n",
      "True: Iris-versicolor => Predicted: Iris-versicolor\n",
      "True: Iris-setosa => Predicted: Iris-setosa\n",
      "True: Iris-versicolor => Predicted: Iris-versicolor\n",
      "True: Iris-versicolor => Predicted: Iris-versicolor\n",
      "True: Iris-setosa => Predicted: Iris-setosa\n",
      "True: Iris-versicolor => Predicted: Iris-versicolor\n",
      "True: Iris-setosa => Predicted: Iris-setosa\n",
      "True: Iris-setosa => Predicted: Iris-setosa\n",
      "True: Iris-virginica => Predicted: Iris-virginica\n",
      "True: Iris-setosa => Predicted: Iris-setosa\n",
      "True: Iris-setosa => Predicted: Iris-setosa\n",
      "True: Iris-versicolor => Predicted: Iris-versicolor\n",
      "True: Iris-setosa => Predicted: Iris-setosa\n",
      "True: Iris-virginica => Predicted: Iris-versicolor\n",
      "True: Iris-virginica => Predicted: Iris-virginica\n",
      "True: Iris-virginica => Predicted: Iris-virginica\n",
      "True: Iris-versicolor => Predicted: Iris-versicolor\n",
      "True: Iris-versicolor => Predicted: Iris-versicolor\n",
      "True: Iris-versicolor => Predicted: Iris-versicolor\n",
      "True: Iris-virginica => Predicted: Iris-virginica\n",
      "True: Iris-virginica => Predicted: Iris-virginica\n",
      "True: Iris-setosa => Predicted: Iris-setosa\n",
      "True: Iris-setosa => Predicted: Iris-setosa\n",
      "True: Iris-versicolor => Predicted: Iris-virginica\n",
      "True: Iris-versicolor => Predicted: Iris-versicolor\n"
     ]
    }
   ],
   "source": [
    "#Predicted levels and true levels\n",
    "predicted_labels=tree_model.predict(test)\n",
    "true_labels = test[test.columns[-1]].tolist()\n",
    "\n",
    "for i in range(len(true_labels)):\n",
    "    print(\"True: \" + str(true_labels[i]) + \" => Predicted: \"+ str(predicted_labels[i]))"
   ]
  }
 ],
 "metadata": {
  "kernelspec": {
   "display_name": "Python 3",
   "language": "python",
   "name": "python3"
  },
  "language_info": {
   "codemirror_mode": {
    "name": "ipython",
    "version": 3
   },
   "file_extension": ".py",
   "mimetype": "text/x-python",
   "name": "python",
   "nbconvert_exporter": "python",
   "pygments_lexer": "ipython3",
   "version": "3.8.8"
  }
 },
 "nbformat": 4,
 "nbformat_minor": 5
}
