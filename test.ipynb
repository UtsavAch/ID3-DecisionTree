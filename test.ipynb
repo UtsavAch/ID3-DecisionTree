{
 "cells": [
  {
   "cell_type": "code",
   "execution_count": 1,
   "id": "fc2a666f",
   "metadata": {},
   "outputs": [],
   "source": [
    "import pandas as pd\n",
    "from id3 import DecisionTree\n",
    "from pre_process import train_test_split, get_target_name, get_classes\n",
    "from metrics import confusion_matrix, evaluate_metrics, count_nodes_and_leaves, tree_depth"
   ]
  },
  {
   "cell_type": "code",
   "execution_count": 2,
   "id": "f83bab2d",
   "metadata": {},
   "outputs": [],
   "source": [
    "# Load the dataset (Uncomment the dataset that you want to train)\n",
    "file_path = 'weather.csv'\n",
    "#file_path = 'restaurant.csv'\n",
    "#file_path = 'iris.csv'\n",
    "data = pd.read_csv(file_path)\n",
    "\n",
    "#NOTE:- There is a SEPARATE NOTEBOOK for \"CONNECT4\" dataset"
   ]
  },
  {
   "cell_type": "code",
   "execution_count": 3,
   "id": "ee529e15",
   "metadata": {},
   "outputs": [],
   "source": [
    "# Remove 'ID' column from the dataset\n",
    "data = data.drop('ID', axis=1)"
   ]
  },
  {
   "cell_type": "code",
   "execution_count": 4,
   "id": "d5983dea",
   "metadata": {},
   "outputs": [],
   "source": [
    "# Split the dataset into train and test\n",
    "# (Note:- Splitting is not so good with small datasets like weather and restaurants, also iris)\n",
    "# Because train set is even smaller than original dataset, thus produce weaker tree\n",
    "train, test = train_test_split(data, 0.8)"
   ]
  },
  {
   "cell_type": "code",
   "execution_count": 5,
   "id": "cbf90c9f",
   "metadata": {
    "scrolled": true
   },
   "outputs": [
    {
     "name": "stdout",
     "output_type": "stream",
     "text": [
      "<Weather>\n",
      "    sunny:\n",
      "        <Humidity>\n",
      "            <=70.0: yes (2)\n",
      "            >70.0: no (3)\n",
      "    overcast: yes (4)\n",
      "    rainy:\n",
      "        <Windy>\n",
      "            False: yes (3)\n",
      "            True: no (2)\n"
     ]
    }
   ],
   "source": [
    "# Instantiate and fit the DecisionTree model\n",
    "tree_model = DecisionTree(max_depth=None) #You can set any depth you want, since these datasets are small you don't need to\n",
    "tree_model.fit(data, get_target_name(data))#Replace parameter train by data, if you want to fit whole dataset\n",
    "tree_model.print_tree(tree_model.tree)"
   ]
  },
  {
   "cell_type": "code",
   "execution_count": 6,
   "id": "742b6f98",
   "metadata": {
    "scrolled": false
   },
   "outputs": [
    {
     "name": "stdout",
     "output_type": "stream",
     "text": [
      "     Weather Temp Humidity  Windy Play\n",
      "0      rainy   65       70   True   no\n",
      "1      sunny   72       95  False   no\n",
      "2      rainy   70       96  False  yes\n",
      "3   overcast   64       65   True  yes\n",
      "4      sunny   69       70  False  yes\n",
      "5      rainy   71       91   True   no\n",
      "6   overcast   81       75  False  yes\n",
      "7      sunny   80       90   True   no\n",
      "8      sunny   75       70   True  yes\n",
      "9   overcast   83       86  False  yes\n",
      "10     rainy   68       80  False  yes\n",
      "---------------------------------------------------\n",
      "    Weather Temp Humidity  Windy Play\n",
      "0  overcast   72       90   True  yes\n",
      "1     rainy   75       80  False  yes\n",
      "2     sunny   85       85  False   no\n"
     ]
    }
   ],
   "source": [
    "#Print the test data\n",
    "print(train)\n",
    "print(\"---------------------------------------------------\")\n",
    "print(test)"
   ]
  },
  {
   "cell_type": "code",
   "execution_count": 7,
   "id": "488f800c",
   "metadata": {
    "scrolled": false
   },
   "outputs": [
    {
     "name": "stdout",
     "output_type": "stream",
     "text": [
      "True: yes => Predicted: yes\n",
      "True: yes => Predicted: yes\n",
      "True: no => Predicted: no\n"
     ]
    }
   ],
   "source": [
    "#Predicted levels and true levels\n",
    "predicted_labels=tree_model.predict(test)\n",
    "true_labels = test[test.columns[-1]].tolist()\n",
    "\n",
    "for i in range(len(true_labels)):\n",
    "    print(\"True: \" + str(true_labels[i]) + \" => Predicted: \"+ str(predicted_labels[i]))"
   ]
  },
  {
   "cell_type": "code",
   "execution_count": 8,
   "id": "244ed2ed",
   "metadata": {},
   "outputs": [
    {
     "name": "stdout",
     "output_type": "stream",
     "text": [
      "\n",
      "Metrics for class no:\n",
      "Accuracy: 1.00\n",
      "Precision: 1.00\n",
      "Recall: 1.00\n",
      "F1 Score: 1.00\n",
      "\n",
      "Metrics for class yes:\n",
      "Accuracy: 1.00\n",
      "Precision: 1.00\n",
      "Recall: 1.00\n",
      "F1 Score: 1.00\n",
      "\n"
     ]
    }
   ],
   "source": [
    "#Evaluate matrix\n",
    "evaluate_metrics(true_labels, predicted_labels, get_classes(data))"
   ]
  },
  {
   "cell_type": "code",
   "execution_count": 9,
   "id": "1c67522e",
   "metadata": {},
   "outputs": [
    {
     "name": "stdout",
     "output_type": "stream",
     "text": [
      "\n",
      "Confusion Matrix\n",
      "\n",
      "1 0\n",
      "0 2\n",
      "\n",
      "Y-axis: True labels\n",
      "no yes \n",
      "\n",
      "X-axis: Predicted labels\n",
      "no yes \n",
      "\n"
     ]
    },
    {
     "data": {
      "text/plain": [
       "{'t-no-p-no': 1, 't-no-p-yes': 0, 't-yes-p-no': 0, 't-yes-p-yes': 2}"
      ]
     },
     "execution_count": 9,
     "metadata": {},
     "output_type": "execute_result"
    }
   ],
   "source": [
    "#Confusion matrix\n",
    "confusion_matrix(true_labels, predicted_labels, get_classes(data))"
   ]
  },
  {
   "cell_type": "code",
   "execution_count": 10,
   "id": "91cf7676",
   "metadata": {},
   "outputs": [
    {
     "name": "stdout",
     "output_type": "stream",
     "text": [
      "Tree depth:- 4\n",
      "Nodes count:- 6\n",
      "Leaves count:- 5\n"
     ]
    }
   ],
   "source": [
    "#Tree depth, nodes count and leaves count\n",
    "depth = tree_depth(tree_model.tree)\n",
    "nodes, leaves = count_nodes_and_leaves(tree_model.tree)\n",
    "print(\"Tree depth:- \" + str(depth))\n",
    "print(\"Nodes count:- \" + str(nodes))\n",
    "print(\"Leaves count:- \" + str(leaves))"
   ]
  },
  {
   "cell_type": "code",
   "execution_count": null,
   "id": "038fb962",
   "metadata": {},
   "outputs": [],
   "source": []
  }
 ],
 "metadata": {
  "kernelspec": {
   "display_name": "Python 3",
   "language": "python",
   "name": "python3"
  },
  "language_info": {
   "codemirror_mode": {
    "name": "ipython",
    "version": 3
   },
   "file_extension": ".py",
   "mimetype": "text/x-python",
   "name": "python",
   "nbconvert_exporter": "python",
   "pygments_lexer": "ipython3",
   "version": "3.8.8"
  }
 },
 "nbformat": 4,
 "nbformat_minor": 5
}
