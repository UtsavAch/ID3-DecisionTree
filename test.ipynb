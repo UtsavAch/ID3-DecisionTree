{
 "cells": [
  {
   "cell_type": "code",
   "execution_count": 79,
   "id": "fc2a666f",
   "metadata": {},
   "outputs": [],
   "source": [
    "import pandas as pd\n",
    "from id3 import DecisionTree\n",
    "from pre_process import train_test_split, get_target_name\n",
    "from metrics import confusion_matrix, evaluate_metrics"
   ]
  },
  {
   "cell_type": "code",
   "execution_count": 80,
   "id": "f83bab2d",
   "metadata": {},
   "outputs": [],
   "source": [
    "# Load the dataset (Uncomment the dataset that you want to train)\n",
    "#file_path = 'weather.csv'\n",
    "#file_path = 'restaurant.csv'\n",
    "file_path = 'iris.csv'\n",
    "data = pd.read_csv(file_path)\n",
    "\n",
    "#NOTE:- There is a SEPARATE NOTEBOOK for \"CONNECT4\" dataset"
   ]
  },
  {
   "cell_type": "code",
   "execution_count": 81,
   "id": "ee529e15",
   "metadata": {},
   "outputs": [],
   "source": [
    "# Remove 'ID' column from the dataset\n",
    "data = data.drop('ID', axis=1)"
   ]
  },
  {
   "cell_type": "code",
   "execution_count": 82,
   "id": "d5983dea",
   "metadata": {},
   "outputs": [],
   "source": [
    "# Split the dataset into train and test\n",
    "# (Note:- Splitting is not so good with small datasets like weather and restaurants, also iris)\n",
    "# Because train set is even smaller than original dataset, thus produce weaker tree\n",
    "train, test = train_test_split(data, 0.8)"
   ]
  },
  {
   "cell_type": "code",
   "execution_count": 83,
   "id": "cbf90c9f",
   "metadata": {
    "scrolled": true
   },
   "outputs": [
    {
     "name": "stdout",
     "output_type": "stream",
     "text": [
      "<petallength>\n",
      "    <=1.9: Iris-setosa (50)\n",
      "    >1.9:\n",
      "        <petalwidth>\n",
      "            <=1.7:\n",
      "                <sepallength>\n",
      "                    <=7.1:\n",
      "                        <sepalwidth>\n",
      "                            <=2.8: Iris-versicolor (27)\n",
      "                            >2.8: Iris-versicolor (22)\n",
      "                    >7.1: Iris-virginica (1)\n",
      "            >1.7:\n",
      "                <sepallength>\n",
      "                    <=5.9:\n",
      "                        <sepalwidth>\n",
      "                            <=3.1: Iris-virginica (6)\n",
      "                            >3.1: Iris-versicolor (1)\n",
      "                    >5.9: Iris-virginica (39)\n"
     ]
    }
   ],
   "source": [
    "# Instantiate and fit the DecisionTree model\n",
    "tree_model = DecisionTree(max_depth=None) #You can set any depth you want, since these datasets are small you don't need to\n",
    "tree_model.fit(data, get_target_name(data))#Replace parameter train by data, if you want to fit whole dataset\n",
    "tree_model.print_tree(tree_model.tree)"
   ]
  },
  {
   "cell_type": "code",
   "execution_count": 84,
   "id": "742b6f98",
   "metadata": {
    "scrolled": false
   },
   "outputs": [
    {
     "name": "stdout",
     "output_type": "stream",
     "text": [
      "    sepallength sepalwidth petallength petalwidth            class\n",
      "0           5.0        3.3         1.4        0.2      Iris-setosa\n",
      "1           5.1        3.5         1.4        0.2      Iris-setosa\n",
      "2           6.4        3.2         5.3        2.3   Iris-virginica\n",
      "3           7.7        2.6         6.9        2.3   Iris-virginica\n",
      "4           6.7        3.0         5.2        2.3   Iris-virginica\n",
      "..          ...        ...         ...        ...              ...\n",
      "115         5.2        3.5         1.5        0.2      Iris-setosa\n",
      "116         4.3        3.0         1.1        0.1      Iris-setosa\n",
      "117         5.4        3.7         1.5        0.2      Iris-setosa\n",
      "118         5.5        2.3         4.0        1.3  Iris-versicolor\n",
      "119         5.4        3.9         1.3        0.4      Iris-setosa\n",
      "\n",
      "[120 rows x 5 columns]\n",
      "---------------------------------------------------\n",
      "   sepallength sepalwidth petallength petalwidth            class\n",
      "0          5.8        2.7         5.1        1.9   Iris-virginica\n",
      "1          7.3        2.9         6.3        1.8   Iris-virginica\n",
      "2          6.0        3.0         4.8        1.8   Iris-virginica\n",
      "3          6.7        2.5         5.8        1.8   Iris-virginica\n",
      "4          6.4        3.2         4.5        1.5  Iris-versicolor\n",
      "5          6.5        3.0         5.2        2.0   Iris-virginica\n",
      "6          6.8        2.8         4.8        1.4  Iris-versicolor\n",
      "7          5.1        3.8         1.6        0.2      Iris-setosa\n",
      "8          5.0        3.4         1.5        0.2      Iris-setosa\n",
      "9          5.8        2.7         4.1        1.0  Iris-versicolor\n",
      "10         5.7        2.5         5.0        2.0   Iris-virginica\n",
      "11         6.1        2.6         5.6        1.4   Iris-virginica\n",
      "12         5.1        3.8         1.5        0.3      Iris-setosa\n",
      "13         6.3        2.9         5.6        1.8   Iris-virginica\n",
      "14         6.2        2.2         4.5        1.5  Iris-versicolor\n",
      "15         5.1        2.5         3.0        1.1  Iris-versicolor\n",
      "16         6.7        3.1         4.4        1.4  Iris-versicolor\n",
      "17         4.9        2.4         3.3        1.0  Iris-versicolor\n",
      "18         4.9        3.1         1.5        0.1      Iris-setosa\n",
      "19         6.8        3.0         5.5        2.1   Iris-virginica\n",
      "20         5.9        3.2         4.8        1.8  Iris-versicolor\n",
      "21         5.4        3.9         1.7        0.4      Iris-setosa\n",
      "22         4.8        3.1         1.6        0.2      Iris-setosa\n",
      "23         5.1        3.7         1.5        0.4      Iris-setosa\n",
      "24         6.7        3.3         5.7        2.5   Iris-virginica\n",
      "25         6.3        3.3         4.7        1.6  Iris-versicolor\n",
      "26         4.4        3.2         1.3        0.2      Iris-setosa\n",
      "27         5.5        2.4         3.7        1.0  Iris-versicolor\n",
      "28         5.1        3.3         1.7        0.5      Iris-setosa\n",
      "29         4.8        3.4         1.9        0.2      Iris-setosa\n"
     ]
    }
   ],
   "source": [
    "#Print the test data\n",
    "print(train)\n",
    "print(\"---------------------------------------------------\")\n",
    "print(test)"
   ]
  },
  {
   "cell_type": "code",
   "execution_count": 85,
   "id": "488f800c",
   "metadata": {
    "scrolled": false
   },
   "outputs": [
    {
     "name": "stdout",
     "output_type": "stream",
     "text": [
      "True: Iris-virginica => Predicted: Iris-virginica\n",
      "True: Iris-virginica => Predicted: Iris-virginica\n",
      "True: Iris-virginica => Predicted: Iris-virginica\n",
      "True: Iris-virginica => Predicted: Iris-virginica\n",
      "True: Iris-versicolor => Predicted: Iris-versicolor\n",
      "True: Iris-virginica => Predicted: Iris-virginica\n",
      "True: Iris-versicolor => Predicted: Iris-versicolor\n",
      "True: Iris-setosa => Predicted: Iris-setosa\n",
      "True: Iris-setosa => Predicted: Iris-setosa\n",
      "True: Iris-versicolor => Predicted: Iris-versicolor\n",
      "True: Iris-virginica => Predicted: Iris-virginica\n",
      "True: Iris-virginica => Predicted: Iris-versicolor\n",
      "True: Iris-setosa => Predicted: Iris-setosa\n",
      "True: Iris-virginica => Predicted: Iris-virginica\n",
      "True: Iris-versicolor => Predicted: Iris-versicolor\n",
      "True: Iris-versicolor => Predicted: Iris-versicolor\n",
      "True: Iris-versicolor => Predicted: Iris-versicolor\n",
      "True: Iris-versicolor => Predicted: Iris-versicolor\n",
      "True: Iris-setosa => Predicted: Iris-setosa\n",
      "True: Iris-virginica => Predicted: Iris-virginica\n",
      "True: Iris-versicolor => Predicted: Iris-versicolor\n",
      "True: Iris-setosa => Predicted: Iris-setosa\n",
      "True: Iris-setosa => Predicted: Iris-setosa\n",
      "True: Iris-setosa => Predicted: Iris-setosa\n",
      "True: Iris-virginica => Predicted: Iris-virginica\n",
      "True: Iris-versicolor => Predicted: Iris-versicolor\n",
      "True: Iris-setosa => Predicted: Iris-setosa\n",
      "True: Iris-versicolor => Predicted: Iris-versicolor\n",
      "True: Iris-setosa => Predicted: Iris-setosa\n",
      "True: Iris-setosa => Predicted: Iris-setosa\n"
     ]
    }
   ],
   "source": [
    "#Predicted levels and true levels\n",
    "predicted_labels=tree_model.predict(test)\n",
    "true_labels = test[test.columns[-1]].tolist()\n",
    "\n",
    "for i in range(len(true_labels)):\n",
    "    print(\"True: \" + str(true_labels[i]) + \" => Predicted: \"+ str(predicted_labels[i]))"
   ]
  },
  {
   "cell_type": "code",
   "execution_count": null,
   "id": "244ed2ed",
   "metadata": {},
   "outputs": [],
   "source": []
  }
 ],
 "metadata": {
  "kernelspec": {
   "display_name": "Python 3",
   "language": "python",
   "name": "python3"
  },
  "language_info": {
   "codemirror_mode": {
    "name": "ipython",
    "version": 3
   },
   "file_extension": ".py",
   "mimetype": "text/x-python",
   "name": "python",
   "nbconvert_exporter": "python",
   "pygments_lexer": "ipython3",
   "version": "3.8.8"
  }
 },
 "nbformat": 4,
 "nbformat_minor": 5
}
