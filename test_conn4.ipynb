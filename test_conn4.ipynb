{
 "cells": [
  {
   "cell_type": "code",
   "execution_count": 1,
   "id": "9a0b99b0",
   "metadata": {},
   "outputs": [],
   "source": [
    "import pandas as pd\n",
    "from id3 import DecisionTree\n",
    "from pre_process import get_target_name"
   ]
  },
  {
   "cell_type": "code",
   "execution_count": 2,
   "id": "5737d922",
   "metadata": {},
   "outputs": [],
   "source": [
    "data = pd.read_csv(\"connect4.csv\")"
   ]
  },
  {
   "cell_type": "code",
   "execution_count": 3,
   "id": "c117e2fb",
   "metadata": {},
   "outputs": [
    {
     "name": "stdout",
     "output_type": "stream",
     "text": [
      "<c1>\n",
      "    b:\n",
      "        <c37>\n",
      "            b:\n",
      "                <c21>\n",
      "                    x: win (1182)\n",
      "                    o: loss (1235)\n",
      "                    b: win (7266)\n",
      "            o:\n",
      "                <c38>\n",
      "                    b: win (3440)\n",
      "                    o: win (1521)\n",
      "                    x: win (2582)\n",
      "            x:\n",
      "                <c38>\n",
      "                    b: win (3418)\n",
      "                    o: win (2855)\n",
      "                    x: loss (1483)\n",
      "    o:\n",
      "        <c7>\n",
      "            b:\n",
      "                <c19>\n",
      "                    x: win (2599)\n",
      "                    o: win (1704)\n",
      "                    b: win (2510)\n",
      "            x:\n",
      "                <c20>\n",
      "                    o: win (1059)\n",
      "                    x: win (1061)\n",
      "                    b: win (6854)\n",
      "            o:\n",
      "                <c37>\n",
      "                    b: win (2357)\n",
      "                    x: win (1292)\n",
      "                    o: win (888)\n",
      "    x:\n",
      "        <c19>\n",
      "            x:\n",
      "                <c21>\n",
      "                    x: win (421)\n",
      "                    o: loss (717)\n",
      "                    b: win (3935)\n",
      "            o:\n",
      "                <c20>\n",
      "                    x: win (1695)\n",
      "                    o: loss (1690)\n",
      "                    b: loss (3195)\n",
      "            b:\n",
      "                <c14>\n",
      "                    o: loss (2446)\n",
      "                    x: win (1875)\n",
      "                    b: win (6277)\n"
     ]
    }
   ],
   "source": [
    "# Instantiate and fit the DecisionTree model\n",
    "tree_model = DecisionTree(max_depth=3) #You can set any depth as you want noting that higher depth requires higher time\n",
    "tree_model.fit(data, get_target_name(data))\n",
    "tree_model.print_tree(tree_model.tree)\n",
    "\n",
    "#NOTE: You need to wait a bit "
   ]
  },
  {
   "cell_type": "code",
   "execution_count": 4,
   "id": "c8b1d817",
   "metadata": {},
   "outputs": [
    {
     "data": {
      "text/plain": [
       "'\\nSince the dataset is too huge, it took a lot of time to split the dataset into train and test.\\nHence, we decided to skip the train-test splitting part for connect4 dataset\\n'"
      ]
     },
     "execution_count": 4,
     "metadata": {},
     "output_type": "execute_result"
    }
   ],
   "source": [
    "'''\n",
    "Since the dataset is too huge, it took a lot of time to split the dataset into train and test.\n",
    "Hence, we decided to skip the train-test splitting part for connect4 dataset\n",
    "'''"
   ]
  },
  {
   "cell_type": "code",
   "execution_count": null,
   "id": "06e394e2",
   "metadata": {},
   "outputs": [],
   "source": []
  }
 ],
 "metadata": {
  "kernelspec": {
   "display_name": "Python 3",
   "language": "python",
   "name": "python3"
  },
  "language_info": {
   "codemirror_mode": {
    "name": "ipython",
    "version": 3
   },
   "file_extension": ".py",
   "mimetype": "text/x-python",
   "name": "python",
   "nbconvert_exporter": "python",
   "pygments_lexer": "ipython3",
   "version": "3.8.8"
  }
 },
 "nbformat": 4,
 "nbformat_minor": 5
}
