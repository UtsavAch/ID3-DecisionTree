{
 "cells": [
  {
   "cell_type": "code",
   "execution_count": 1,
   "id": "9a0b99b0",
   "metadata": {},
   "outputs": [],
   "source": [
    "import pandas as pd\n",
    "from id3 import DecisionTree\n",
    "from pre_process import get_target_name"
   ]
  },
  {
   "cell_type": "code",
   "execution_count": 2,
   "id": "5737d922",
   "metadata": {},
   "outputs": [],
   "source": [
    "data = pd.read_csv(\"connect4.csv\")"
   ]
  },
  {
   "cell_type": "code",
   "execution_count": 3,
   "id": "c117e2fb",
   "metadata": {},
   "outputs": [
    {
     "name": "stdout",
     "output_type": "stream",
     "text": [
      "<c1>\n",
      "    b:\n",
      "        <c37>\n",
      "            b:\n",
      "                <c21>\n",
      "                    x: win (992)\n",
      "                    o: loss (529)\n",
      "                    b: win (5006)\n",
      "            o:\n",
      "                <c38>\n",
      "                    b: win (2829)\n",
      "                    o: win (1374)\n",
      "                    x: win (1737)\n",
      "            x:\n",
      "                <c38>\n",
      "                    b: win (1776)\n",
      "                    o: win (1939)\n",
      "                    x: loss (817)\n",
      "    o:\n",
      "        <c7>\n",
      "            b:\n",
      "                <c19>\n",
      "                    x: win (2324)\n",
      "                    o: win (1132)\n",
      "                    b: win (1989)\n",
      "            x:\n",
      "                <c20>\n",
      "                    o: win (564)\n",
      "                    x: win (896)\n",
      "                    b: win (4608)\n",
      "            o:\n",
      "                <c37>\n",
      "                    b: win (2205)\n",
      "                    x: win (1009)\n",
      "                    o: win (870)\n",
      "    x:\n",
      "        <c19>\n",
      "            x:\n",
      "                <c21>\n",
      "                    x: win (328)\n",
      "                    o: loss (431)\n",
      "                    b: win (2815)\n",
      "            o:\n",
      "                <c20>\n",
      "                    x: win (942)\n",
      "                    o: loss (1253)\n",
      "                    b: loss (1643)\n",
      "            b:\n",
      "                <c14>\n",
      "                    o: loss (1177)\n",
      "                    x: win (1349)\n",
      "                    b: win (3960)\n"
     ]
    }
   ],
   "source": [
    "# Instantiate and fit the DecisionTree model\n",
    "tree_model = DecisionTree(max_depth=3) #You can set any depth as you want noting that higher depth requires higher time\n",
    "tree_model.fit(data, get_target_name(data))\n",
    "tree_model.print_tree(tree_model.tree)\n",
    "\n",
    "#NOTE: You need to wait a bit "
   ]
  },
  {
   "cell_type": "code",
   "execution_count": 4,
   "id": "c8b1d817",
   "metadata": {},
   "outputs": [
    {
     "data": {
      "text/plain": [
       "'\\nSince the dataset is too huge, it took a lot of time to split the dataset into train and test.\\nHence, we decided to skip the train-test splitting part for connect4 dataset\\n'"
      ]
     },
     "execution_count": 4,
     "metadata": {},
     "output_type": "execute_result"
    }
   ],
   "source": [
    "'''\n",
    "Since the dataset is too huge, it took a lot of time to split the dataset into train and test.\n",
    "Hence, we decided to skip the train-test splitting part for connect4 dataset\n",
    "'''"
   ]
  },
  {
   "cell_type": "code",
   "execution_count": null,
   "id": "06e394e2",
   "metadata": {},
   "outputs": [],
   "source": []
  }
 ],
 "metadata": {
  "kernelspec": {
   "display_name": "Python 3",
   "language": "python",
   "name": "python3"
  },
  "language_info": {
   "codemirror_mode": {
    "name": "ipython",
    "version": 3
   },
   "file_extension": ".py",
   "mimetype": "text/x-python",
   "name": "python",
   "nbconvert_exporter": "python",
   "pygments_lexer": "ipython3",
   "version": "3.8.8"
  }
 },
 "nbformat": 4,
 "nbformat_minor": 5
}
