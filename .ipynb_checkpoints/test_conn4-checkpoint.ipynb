{
 "cells": [
  {
   "cell_type": "code",
   "execution_count": 13,
   "id": "9a0b99b0",
   "metadata": {},
   "outputs": [],
   "source": [
    "import pandas as pd\n",
    "from id3 import DecisionTree\n",
    "from pre_process import train_test_split, get_target_name, get_classes\n",
    "from metrics import confusion_matrix, evaluate_metrics, count_nodes_and_leaves, tree_depth"
   ]
  },
  {
   "cell_type": "code",
   "execution_count": 14,
   "id": "5737d922",
   "metadata": {},
   "outputs": [],
   "source": [
    "data = pd.read_csv(\"connect4.csv\")\n",
    "train = pd.train_csv(\"connect4train.csv\")\n",
    "test = pd.read_csv(\"connect4test.csv\")"
   ]
  },
  {
   "cell_type": "code",
   "execution_count": 16,
   "id": "c117e2fb",
   "metadata": {},
   "outputs": [
    {
     "name": "stdout",
     "output_type": "stream",
     "text": [
      "<c1>\n",
      "    b:\n",
      "        <c37>\n",
      "            b:\n",
      "                <c21>\n",
      "                    x: win (1182)\n",
      "                    o: loss (1235)\n",
      "                    b: win (7266)\n",
      "            o:\n",
      "                <c38>\n",
      "                    b: win (3440)\n",
      "                    o: win (1521)\n",
      "                    x: win (2582)\n",
      "            x:\n",
      "                <c38>\n",
      "                    b: win (3418)\n",
      "                    o: win (2855)\n",
      "                    x: loss (1483)\n",
      "    o:\n",
      "        <c7>\n",
      "            b:\n",
      "                <c19>\n",
      "                    x: win (2599)\n",
      "                    o: win (1704)\n",
      "                    b: win (2510)\n",
      "            x:\n",
      "                <c20>\n",
      "                    o: win (1059)\n",
      "                    x: win (1061)\n",
      "                    b: win (6854)\n",
      "            o:\n",
      "                <c37>\n",
      "                    b: win (2357)\n",
      "                    x: win (1292)\n",
      "                    o: win (888)\n",
      "    x:\n",
      "        <c19>\n",
      "            x:\n",
      "                <c21>\n",
      "                    x: win (421)\n",
      "                    o: loss (717)\n",
      "                    b: win (3935)\n",
      "            o:\n",
      "                <c20>\n",
      "                    x: win (1695)\n",
      "                    o: loss (1690)\n",
      "                    b: loss (3195)\n",
      "            b:\n",
      "                <c14>\n",
      "                    o: loss (2446)\n",
      "                    x: win (1875)\n",
      "                    b: win (6277)\n"
     ]
    }
   ],
   "source": [
    "# Instantiate and fit the DecisionTree model\n",
    "tree_model = DecisionTree(max_depth=3) #You can set any depth as you want noting that higher depth requires higher time\n",
    "tree_model.fit(data, get_target_name(data))\n",
    "tree_model.print_tree(tree_model.tree)\n",
    "\n",
    "#NOTE: You need to wait a bit "
   ]
  },
  {
   "cell_type": "code",
   "execution_count": 17,
   "id": "fd51595e",
   "metadata": {},
   "outputs": [
    {
     "name": "stdout",
     "output_type": "stream",
     "text": [
      "   c1 c2 c3 c4 c5 c6 c7 c8 c9 c10  ... c34 c35 c36 c37 c38 c39 c40 c41 c42  \\\n",
      "0   b  b  b  b  b  b  b  b  b   b  ...   b   b   b   b   b   b   b   b   b   \n",
      "1   b  b  b  b  b  b  b  b  b   b  ...   b   b   b   b   b   b   b   b   b   \n",
      "2   b  b  b  b  b  b  o  b  b   b  ...   b   b   b   b   b   b   b   b   b   \n",
      "3   b  b  b  b  b  b  b  b  b   b  ...   b   b   b   b   b   b   b   b   b   \n",
      "4   b  b  b  b  b  b  b  b  b   b  ...   b   b   b   b   b   b   b   b   b   \n",
      "5   b  b  b  b  b  b  o  b  b   b  ...   b   b   b   b   b   b   b   b   b   \n",
      "6   b  b  b  b  b  b  b  b  b   b  ...   b   b   b   b   b   b   b   b   b   \n",
      "7   o  b  b  b  b  b  b  b  b   b  ...   b   b   b   b   b   b   b   b   b   \n",
      "8   b  b  b  b  b  b  b  b  b   b  ...   b   b   b   o   b   b   b   b   b   \n",
      "9   b  b  b  b  b  b  x  b  b   b  ...   b   b   b   b   b   b   b   b   b   \n",
      "10  b  b  b  b  b  b  x  b  b   b  ...   b   b   b   b   b   b   b   b   b   \n",
      "11  b  b  b  b  b  b  x  o  b   b  ...   b   b   b   b   b   b   b   b   b   \n",
      "12  b  b  b  b  b  b  x  b  b   b  ...   b   b   b   b   b   b   b   b   b   \n",
      "13  o  b  b  b  b  b  x  b  b   b  ...   b   b   b   b   b   b   b   b   b   \n",
      "14  b  b  b  b  b  b  x  b  b   b  ...   b   b   b   o   b   b   b   b   b   \n",
      "15  b  b  b  b  b  b  b  b  b   b  ...   b   b   b   b   b   b   b   b   b   \n",
      "\n",
      "   Class  \n",
      "0    win  \n",
      "1    win  \n",
      "2    win  \n",
      "3   loss  \n",
      "4   draw  \n",
      "5    win  \n",
      "6   loss  \n",
      "7    win  \n",
      "8    win  \n",
      "9   loss  \n",
      "10   win  \n",
      "11  loss  \n",
      "12  draw  \n",
      "13   win  \n",
      "14  draw  \n",
      "15   win  \n",
      "\n",
      "[16 rows x 43 columns]\n"
     ]
    }
   ],
   "source": [
    "#Print the test data\n",
    "print(test)"
   ]
  },
  {
   "cell_type": "code",
   "execution_count": 18,
   "id": "9de56534",
   "metadata": {},
   "outputs": [
    {
     "name": "stdout",
     "output_type": "stream",
     "text": [
      "True: win => Predicted: win\n",
      "True: win => Predicted: win\n",
      "True: win => Predicted: win\n",
      "True: loss => Predicted: win\n",
      "True: draw => Predicted: win\n",
      "True: win => Predicted: win\n",
      "True: loss => Predicted: win\n",
      "True: win => Predicted: win\n",
      "True: win => Predicted: win\n",
      "True: loss => Predicted: win\n",
      "True: win => Predicted: win\n",
      "True: loss => Predicted: win\n",
      "True: draw => Predicted: win\n",
      "True: win => Predicted: win\n",
      "True: draw => Predicted: win\n",
      "True: win => Predicted: win\n"
     ]
    }
   ],
   "source": [
    "#Predicted levels and true levels\n",
    "predicted_labels=tree_model.predict(test)\n",
    "true_labels = test[test.columns[-1]].tolist()\n",
    "\n",
    "for i in range(len(true_labels)):\n",
    "    print(\"True: \" + str(true_labels[i]) + \" => Predicted: \"+ str(predicted_labels[i]))"
   ]
  },
  {
   "cell_type": "code",
   "execution_count": 19,
   "id": "f60b6784",
   "metadata": {},
   "outputs": [
    {
     "name": "stdout",
     "output_type": "stream",
     "text": [
      "\n",
      "Metrics for class win:\n",
      "Accuracy: 0.56\n",
      "Precision: 0.56\n",
      "Recall: 1.00\n",
      "F1 Score: 0.72\n",
      "\n",
      "Metrics for class draw:\n",
      "Accuracy: 0.81\n",
      "Precision: 0.00\n",
      "Recall: 0.00\n",
      "F1 Score: 0.00\n",
      "\n",
      "Metrics for class loss:\n",
      "Accuracy: 0.75\n",
      "Precision: 0.00\n",
      "Recall: 0.00\n",
      "F1 Score: 0.00\n",
      "\n"
     ]
    }
   ],
   "source": [
    "#Evaluate matrix\n",
    "evaluate_metrics(true_labels, predicted_labels, get_classes(data))"
   ]
  },
  {
   "cell_type": "code",
   "execution_count": 20,
   "id": "82bb5d1b",
   "metadata": {},
   "outputs": [
    {
     "name": "stdout",
     "output_type": "stream",
     "text": [
      "\n",
      "Confusion Matrix\n",
      "\n",
      "9 0 0\n",
      "3 0 0\n",
      "4 0 0\n",
      "\n",
      "Y-axis: True labels\n",
      "win draw loss \n",
      "\n",
      "X-axis: Predicted labels\n",
      "win draw loss \n",
      "\n"
     ]
    },
    {
     "data": {
      "text/plain": [
       "{'t-win-p-win': 9,\n",
       " 't-win-p-draw': 0,\n",
       " 't-win-p-loss': 0,\n",
       " 't-draw-p-win': 3,\n",
       " 't-draw-p-draw': 0,\n",
       " 't-draw-p-loss': 0,\n",
       " 't-loss-p-win': 4,\n",
       " 't-loss-p-draw': 0,\n",
       " 't-loss-p-loss': 0}"
      ]
     },
     "execution_count": 20,
     "metadata": {},
     "output_type": "execute_result"
    }
   ],
   "source": [
    "#Confusion matrix\n",
    "confusion_matrix(true_labels, predicted_labels, get_classes(data))"
   ]
  },
  {
   "cell_type": "code",
   "execution_count": 21,
   "id": "bffe8b37",
   "metadata": {},
   "outputs": [
    {
     "name": "stdout",
     "output_type": "stream",
     "text": [
      "Tree depth:- 6\n",
      "Nodes count:- 26\n",
      "Leaves count:- 27\n"
     ]
    }
   ],
   "source": [
    "#Tree depth, nodes count and leaves count\n",
    "depth = tree_depth(tree_model.tree)\n",
    "nodes, leaves = count_nodes_and_leaves(tree_model.tree)\n",
    "print(\"Tree depth:- \" + str(depth))\n",
    "print(\"Nodes count:- \" + str(nodes))\n",
    "print(\"Leaves count:- \" + str(leaves))"
   ]
  },
  {
   "cell_type": "code",
   "execution_count": 22,
   "id": "c8b1d817",
   "metadata": {},
   "outputs": [
    {
     "data": {
      "text/plain": [
       "'\\nSince the dataset is too huge, it took a lot of time to split the dataset into train and test.\\nHence, we decided to skip the train-test splitting part for connect4 dataset\\n'"
      ]
     },
     "execution_count": 22,
     "metadata": {},
     "output_type": "execute_result"
    }
   ],
   "source": [
    "'''\n",
    "Since the dataset is too huge, it took a lot of time to split the dataset into train and test.\n",
    "Hence, we decided to skip the train-test splitting part for connect4 dataset\n",
    "'''"
   ]
  },
  {
   "cell_type": "code",
   "execution_count": null,
   "id": "b2b64fb5",
   "metadata": {},
   "outputs": [],
   "source": []
  },
  {
   "cell_type": "code",
   "execution_count": null,
   "id": "06e394e2",
   "metadata": {},
   "outputs": [],
   "source": []
  }
 ],
 "metadata": {
  "kernelspec": {
   "display_name": "Python 3",
   "language": "python",
   "name": "python3"
  }
 },
 "nbformat": 4,
 "nbformat_minor": 5
}
