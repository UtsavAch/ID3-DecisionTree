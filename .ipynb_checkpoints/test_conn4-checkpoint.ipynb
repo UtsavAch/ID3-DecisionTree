{
 "cells": [
  {
   "cell_type": "code",
   "execution_count": 10,
   "id": "9a0b99b0",
   "metadata": {},
   "outputs": [],
   "source": [
    "import pandas as pd\n",
    "from id3 import DecisionTree\n",
    "from pre_process import get_target_name"
   ]
  },
  {
   "cell_type": "code",
   "execution_count": 11,
   "id": "5737d922",
   "metadata": {},
   "outputs": [],
   "source": [
    "data = pd.read_csv(\"connect4.csv\")"
   ]
  },
  {
   "cell_type": "code",
   "execution_count": 12,
   "id": "c117e2fb",
   "metadata": {},
   "outputs": [
    {
     "name": "stdout",
     "output_type": "stream",
     "text": [
      "{'c1': {'b': {'c37': {'b': {'c21': {'x': 'win', 'o': 'loss', 'b': 'win'}}, 'o': {'c38': {'b': 'win', 'o': 'win', 'x': 'win'}}, 'x': {'c38': {'b': 'win', 'o': 'win', 'x': 'loss'}}}}, 'o': {'c7': {'b': {'c19': {'x': 'win', 'o': 'win', 'b': 'win'}}, 'x': {'c20': {'o': 'win', 'x': 'win', 'b': 'win'}}, 'o': {'c37': {'b': 'win', 'x': 'win', 'o': 'win'}}}}, 'x': {'c19': {'x': {'c21': {'x': 'win', 'o': 'loss', 'b': 'win'}}, 'o': {'c20': {'x': 'win', 'o': 'loss', 'b': 'loss'}}, 'b': {'c14': {'o': 'loss', 'x': 'win', 'b': 'win'}}}}}}\n"
     ]
    }
   ],
   "source": [
    "# Instantiate and fit the DecisionTree model\n",
    "tree_model = DecisionTree(max_depth=3) #You can set any depth as you want noting that higher depth requires higher time\n",
    "tree_model.fit(data, get_target_name(data))\n",
    "print(tree_model.tree)\n",
    "\n",
    "#NOTE: You need to wait a bit "
   ]
  },
  {
   "cell_type": "code",
   "execution_count": 13,
   "id": "c8b1d817",
   "metadata": {},
   "outputs": [
    {
     "data": {
      "text/plain": [
       "'\\nSince the dataset is too huge, it took a lot of time to split the dataset into train and test.\\nHence, we decided to skip the train-test splitting part\\n'"
      ]
     },
     "execution_count": 13,
     "metadata": {},
     "output_type": "execute_result"
    }
   ],
   "source": [
    "'''\n",
    "Since the dataset is too huge, it took a lot of time to split the dataset into train and test.\n",
    "Hence, we decided to skip the train-test splitting part\n",
    "'''"
   ]
  },
  {
   "cell_type": "code",
   "execution_count": null,
   "id": "06e394e2",
   "metadata": {},
   "outputs": [],
   "source": []
  }
 ],
 "metadata": {
  "kernelspec": {
   "display_name": "Python 3",
   "language": "python",
   "name": "python3"
  },
  "language_info": {
   "codemirror_mode": {
    "name": "ipython",
    "version": 3
   },
   "file_extension": ".py",
   "mimetype": "text/x-python",
   "name": "python",
   "nbconvert_exporter": "python",
   "pygments_lexer": "ipython3",
   "version": "3.8.8"
  }
 },
 "nbformat": 4,
 "nbformat_minor": 5
}
