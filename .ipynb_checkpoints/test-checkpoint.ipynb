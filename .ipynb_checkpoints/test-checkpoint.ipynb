{
 "cells": [
  {
   "cell_type": "code",
   "execution_count": 113,
   "id": "fc2a666f",
   "metadata": {},
   "outputs": [],
   "source": [
    "import pandas as pd\n",
    "from id3 import DecisionTree\n",
    "from pre_process import train_test_split, get_target_name\n",
    "from metrics import confusion_matrix, evaluate_metrics"
   ]
  },
  {
   "cell_type": "code",
   "execution_count": 114,
   "id": "f83bab2d",
   "metadata": {},
   "outputs": [],
   "source": [
    "# Load the dataset (Uncomment the dataset that you want to train)\n",
    "#file_path = 'weather.csv'\n",
    "file_path = 'iris.csv'\n",
    "#file_path = 'restaurant.csv'\n",
    "data = pd.read_csv(file_path)\n",
    "\n",
    "#NOTE:- There is a SEPARATE NOTEBOOK for \"CONNECT4\" dataset"
   ]
  },
  {
   "cell_type": "code",
   "execution_count": 115,
   "id": "ee529e15",
   "metadata": {},
   "outputs": [],
   "source": [
    "# Remove 'ID' column from the dataset\n",
    "data = data.drop('ID', axis=1)"
   ]
  },
  {
   "cell_type": "code",
   "execution_count": 116,
   "id": "d5983dea",
   "metadata": {},
   "outputs": [],
   "source": [
    "# Split the dataset into train and test\n",
    "train, test = train_test_split(data, 0.7)"
   ]
  },
  {
   "cell_type": "code",
   "execution_count": 117,
   "id": "cbf90c9f",
   "metadata": {},
   "outputs": [
    {
     "name": "stdout",
     "output_type": "stream",
     "text": [
      "{'petallength': {'<=1.9': 'Iris-setosa', '>1.9': {'petalwidth': {'<=1.75': {'sepallength': {'<=7.050000000000001': {'sepalwidth': {'<=2.8': 'Iris-versicolor', '>2.8': 'Iris-versicolor'}}, '>7.050000000000001': 'Iris-virginica'}}, '>1.75': 'Iris-virginica'}}}}\n"
     ]
    }
   ],
   "source": [
    "# Instantiate and fit the DecisionTree model\n",
    "tree_model = DecisionTree(max_depth=None) #You can set any depth you want, since these datasets are small you don't need to\n",
    "tree_model.fit(train, get_target_name(data))\n",
    "print(tree_model.tree)"
   ]
  },
  {
   "cell_type": "code",
   "execution_count": 118,
   "id": "742b6f98",
   "metadata": {},
   "outputs": [
    {
     "name": "stdout",
     "output_type": "stream",
     "text": [
      "    sepallength sepalwidth petallength petalwidth            class\n",
      "0           5.8        2.6         4.0        1.2  Iris-versicolor\n",
      "1           6.3        2.8         5.1        1.5   Iris-virginica\n",
      "2           6.1        3.0         4.6        1.4  Iris-versicolor\n",
      "3           5.5        2.3         4.0        1.3  Iris-versicolor\n",
      "4           6.5        3.2         5.1        2.0   Iris-virginica\n",
      "..          ...        ...         ...        ...              ...\n",
      "100         5.0        3.5         1.3        0.3      Iris-setosa\n",
      "101         5.4        3.0         4.5        1.5  Iris-versicolor\n",
      "102         4.4        2.9         1.4        0.2      Iris-setosa\n",
      "103         5.0        3.5         1.6        0.6      Iris-setosa\n",
      "104         6.0        2.9         4.5        1.5  Iris-versicolor\n",
      "\n",
      "[105 rows x 5 columns]\n",
      "---------------------------------------------------\n",
      "   sepallength sepalwidth petallength petalwidth            class\n",
      "0          5.8        2.7         5.1        1.9   Iris-virginica\n",
      "1          7.2        3.2         6.0        1.8   Iris-virginica\n",
      "2          7.2        3.6         6.1        2.5   Iris-virginica\n",
      "3          7.7        2.6         6.9        2.3   Iris-virginica\n",
      "4          5.0        3.2         1.2        0.2      Iris-setosa\n",
      "5          6.0        3.0         4.8        1.8   Iris-virginica\n",
      "6          4.9        3.0         1.4        0.2      Iris-setosa\n",
      "7          6.2        2.2         4.5        1.5  Iris-versicolor\n",
      "8          5.2        3.4         1.4        0.2      Iris-setosa\n",
      "9          5.2        4.1         1.5        0.1      Iris-setosa\n",
      "10         7.0        3.2         4.7        1.4  Iris-versicolor\n",
      "11         4.4        3.0         1.3        0.2      Iris-setosa\n",
      "12         6.0        2.7         5.1        1.6  Iris-versicolor\n",
      "13         4.9        2.5         4.5        1.7   Iris-virginica\n",
      "14         6.9        3.2         5.7        2.3   Iris-virginica\n",
      "15         6.1        3.0         4.9        1.8   Iris-virginica\n",
      "16         5.2        2.7         3.9        1.4  Iris-versicolor\n",
      "17         5.7        2.5         5.0        2.0   Iris-virginica\n",
      "18         5.0        2.3         3.3        1.0  Iris-versicolor\n",
      "19         5.0        3.4         1.5        0.2      Iris-setosa\n",
      "20         5.6        2.5         3.9        1.1  Iris-versicolor\n",
      "21         5.2        3.5         1.5        0.2      Iris-setosa\n",
      "22         6.5        2.8         4.6        1.5  Iris-versicolor\n",
      "23         6.0        3.4         4.5        1.6  Iris-versicolor\n",
      "24         4.6        3.1         1.5        0.2      Iris-setosa\n",
      "25         6.4        2.9         4.3        1.3  Iris-versicolor\n",
      "26         5.4        3.4         1.7        0.2      Iris-setosa\n",
      "27         4.4        3.2         1.3        0.2      Iris-setosa\n",
      "28         6.5        3.0         5.8        2.2   Iris-virginica\n",
      "29         4.6        3.4         1.4        0.3      Iris-setosa\n",
      "30         4.3        3.0         1.1        0.1      Iris-setosa\n",
      "31         5.6        2.7         4.2        1.3  Iris-versicolor\n",
      "32         5.3        3.7         1.5        0.2      Iris-setosa\n",
      "33         6.0        2.2         5.0        1.5   Iris-virginica\n",
      "34         6.3        3.4         5.6        2.4   Iris-virginica\n",
      "35         5.6        2.8         4.9        2.0   Iris-virginica\n",
      "36         5.7        2.6         3.5        1.0  Iris-versicolor\n",
      "37         5.7        2.8         4.1        1.3  Iris-versicolor\n",
      "38         6.1        2.8         4.0        1.3  Iris-versicolor\n",
      "39         7.9        3.8         6.4        2.0   Iris-virginica\n",
      "40         6.3        3.3         6.0        2.5   Iris-virginica\n",
      "41         5.1        3.8         1.5        0.3      Iris-setosa\n",
      "42         4.6        3.6         1.0        0.2      Iris-setosa\n",
      "43         5.9        3.2         4.8        1.8  Iris-versicolor\n",
      "44         5.5        2.4         3.7        1.0  Iris-versicolor\n"
     ]
    }
   ],
   "source": [
    "#Print the test data\n",
    "print(train)\n",
    "print(\"---------------------------------------------------\")\n",
    "print(test)"
   ]
  },
  {
   "cell_type": "code",
   "execution_count": 119,
   "id": "488f800c",
   "metadata": {},
   "outputs": [
    {
     "name": "stdout",
     "output_type": "stream",
     "text": [
      "True: Iris-virginica => Predicted: Iris-virginica\n",
      "True: Iris-virginica => Predicted: Iris-virginica\n",
      "True: Iris-virginica => Predicted: Iris-virginica\n",
      "True: Iris-virginica => Predicted: Iris-virginica\n",
      "True: Iris-setosa => Predicted: Iris-setosa\n",
      "True: Iris-virginica => Predicted: Iris-virginica\n",
      "True: Iris-setosa => Predicted: Iris-setosa\n",
      "True: Iris-versicolor => Predicted: Iris-versicolor\n",
      "True: Iris-setosa => Predicted: Iris-setosa\n",
      "True: Iris-setosa => Predicted: Iris-setosa\n",
      "True: Iris-versicolor => Predicted: Iris-versicolor\n",
      "True: Iris-setosa => Predicted: Iris-setosa\n",
      "True: Iris-versicolor => Predicted: Iris-versicolor\n",
      "True: Iris-virginica => Predicted: Iris-versicolor\n",
      "True: Iris-virginica => Predicted: Iris-virginica\n",
      "True: Iris-virginica => Predicted: Iris-virginica\n",
      "True: Iris-versicolor => Predicted: Iris-versicolor\n",
      "True: Iris-virginica => Predicted: Iris-virginica\n",
      "True: Iris-versicolor => Predicted: Iris-versicolor\n",
      "True: Iris-setosa => Predicted: Iris-setosa\n",
      "True: Iris-versicolor => Predicted: Iris-versicolor\n",
      "True: Iris-setosa => Predicted: Iris-setosa\n",
      "True: Iris-versicolor => Predicted: Iris-versicolor\n",
      "True: Iris-versicolor => Predicted: Iris-versicolor\n",
      "True: Iris-setosa => Predicted: Iris-setosa\n",
      "True: Iris-versicolor => Predicted: Iris-versicolor\n",
      "True: Iris-setosa => Predicted: Iris-setosa\n",
      "True: Iris-setosa => Predicted: Iris-setosa\n",
      "True: Iris-virginica => Predicted: Iris-virginica\n",
      "True: Iris-setosa => Predicted: Iris-setosa\n",
      "True: Iris-setosa => Predicted: Iris-setosa\n",
      "True: Iris-versicolor => Predicted: Iris-versicolor\n",
      "True: Iris-setosa => Predicted: Iris-setosa\n",
      "True: Iris-virginica => Predicted: Iris-versicolor\n",
      "True: Iris-virginica => Predicted: Iris-virginica\n",
      "True: Iris-virginica => Predicted: Iris-virginica\n",
      "True: Iris-versicolor => Predicted: Iris-versicolor\n",
      "True: Iris-versicolor => Predicted: Iris-versicolor\n",
      "True: Iris-versicolor => Predicted: Iris-versicolor\n",
      "True: Iris-virginica => Predicted: Iris-virginica\n",
      "True: Iris-virginica => Predicted: Iris-virginica\n",
      "True: Iris-setosa => Predicted: Iris-setosa\n",
      "True: Iris-setosa => Predicted: Iris-setosa\n",
      "True: Iris-versicolor => Predicted: Iris-virginica\n",
      "True: Iris-versicolor => Predicted: Iris-versicolor\n"
     ]
    }
   ],
   "source": [
    "#Predicted levels and true levels\n",
    "predicted_labels=tree_model.predict(test)\n",
    "true_labels = test[test.columns[-1]].tolist()\n",
    "\n",
    "for i in range(len(true_labels)):\n",
    "    print(\"True: \" + str(true_labels[i]) + \" => Predicted: \"+ str(predicted_labels[i]))"
   ]
  }
 ],
 "metadata": {
  "kernelspec": {
   "display_name": "Python 3",
   "language": "python",
   "name": "python3"
  },
  "language_info": {
   "codemirror_mode": {
    "name": "ipython",
    "version": 3
   },
   "file_extension": ".py",
   "mimetype": "text/x-python",
   "name": "python",
   "nbconvert_exporter": "python",
   "pygments_lexer": "ipython3",
   "version": "3.8.8"
  }
 },
 "nbformat": 4,
 "nbformat_minor": 5
}
