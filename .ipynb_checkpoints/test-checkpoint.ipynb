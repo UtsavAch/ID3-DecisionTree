{
 "cells": [
  {
   "cell_type": "code",
   "execution_count": 72,
   "id": "fc2a666f",
   "metadata": {},
   "outputs": [],
   "source": [
    "import pandas as pd\n",
    "from id3 import DecisionTree\n",
    "from pre_process import train_test_split, get_target_name\n",
    "from metrics import confusion_matrix, evaluate_metrics"
   ]
  },
  {
   "cell_type": "code",
   "execution_count": 73,
   "id": "f83bab2d",
   "metadata": {},
   "outputs": [],
   "source": [
    "# Load the dataset (Uncomment the dataset that you want to train)\n",
    "#file_path = 'weather.csv'\n",
    "#file_path = 'restaurant.csv'\n",
    "file_path = 'iris.csv'\n",
    "data = pd.read_csv(file_path)\n",
    "\n",
    "#NOTE:- There is a SEPARATE NOTEBOOK for \"CONNECT4\" dataset"
   ]
  },
  {
   "cell_type": "code",
   "execution_count": 74,
   "id": "ee529e15",
   "metadata": {},
   "outputs": [],
   "source": [
    "# Remove 'ID' column from the dataset\n",
    "data = data.drop('ID', axis=1)"
   ]
  },
  {
   "cell_type": "code",
   "execution_count": 75,
   "id": "d5983dea",
   "metadata": {},
   "outputs": [],
   "source": [
    "# Split the dataset into train and test\n",
    "# (Note:- Splitting is not so good with small datasets like weather and restaurants, also iris)\n",
    "# Because train set is even smaller than original dataset, thus produce weaker tree\n",
    "train, test = train_test_split(data, 0.8)"
   ]
  },
  {
   "cell_type": "code",
   "execution_count": 76,
   "id": "cbf90c9f",
   "metadata": {
    "scrolled": true
   },
   "outputs": [
    {
     "name": "stdout",
     "output_type": "stream",
     "text": [
      "<petallength>\n",
      "    <=1.9: Iris-setosa (40)\n",
      "    >1.9:\n",
      "        <petalwidth>\n",
      "            <=1.7:\n",
      "                <sepallength>\n",
      "                    <=7.1:\n",
      "                        <sepalwidth>\n",
      "                            <=2.8: Iris-versicolor (21)\n",
      "                            >2.8: Iris-versicolor (19)\n",
      "                    >7.1: Iris-virginica (1)\n",
      "            >1.7: Iris-virginica (35)\n"
     ]
    }
   ],
   "source": [
    "# Instantiate and fit the DecisionTree model\n",
    "tree_model = DecisionTree(max_depth=None) #You can set any depth you want, since these datasets are small you don't need to\n",
    "tree_model.fit(data, get_target_name(data))#Replace parameter train by data, if you want to fit whole dataset\n",
    "tree_model.print_tree(tree_model.tree)"
   ]
  },
  {
   "cell_type": "code",
   "execution_count": 77,
   "id": "742b6f98",
   "metadata": {
    "scrolled": false
   },
   "outputs": [
    {
     "name": "stdout",
     "output_type": "stream",
     "text": [
      "    sepallength sepalwidth petallength petalwidth            class\n",
      "0           7.2        3.6         6.1        2.5   Iris-virginica\n",
      "1           6.9        3.1         4.9        1.5  Iris-versicolor\n",
      "2           5.6        2.9         3.6        1.3  Iris-versicolor\n",
      "3           7.7        2.8         6.7        2.0   Iris-virginica\n",
      "4           5.1        3.5         1.4        0.2      Iris-setosa\n",
      "..          ...        ...         ...        ...              ...\n",
      "115         5.0        3.5         1.6        0.6      Iris-setosa\n",
      "116         7.6        3.0         6.6        2.1   Iris-virginica\n",
      "117         4.6        3.6         1.0        0.2      Iris-setosa\n",
      "118         5.5        2.6         4.4        1.2  Iris-versicolor\n",
      "119         5.7        3.0         4.2        1.2  Iris-versicolor\n",
      "\n",
      "[120 rows x 5 columns]\n",
      "---------------------------------------------------\n",
      "   sepallength sepalwidth petallength petalwidth            class\n",
      "0          6.5        3.0         5.2        2.0   Iris-virginica\n",
      "1          6.9        3.1         5.4        2.1   Iris-virginica\n",
      "2          4.6        3.4         1.4        0.3      Iris-setosa\n",
      "3          5.6        2.8         4.9        2.0   Iris-virginica\n",
      "4          6.5        3.2         5.1        2.0   Iris-virginica\n",
      "5          4.6        3.1         1.5        0.2      Iris-setosa\n",
      "6          5.4        3.9         1.7        0.4      Iris-setosa\n",
      "7          6.1        3.0         4.9        1.8   Iris-virginica\n",
      "8          6.3        2.7         4.9        1.8   Iris-virginica\n",
      "9          6.1        2.9         4.7        1.4  Iris-versicolor\n",
      "10         5.6        3.0         4.5        1.5  Iris-versicolor\n",
      "11         5.8        2.7         4.1        1.0  Iris-versicolor\n",
      "12         6.0        3.0         4.8        1.8   Iris-virginica\n",
      "13         5.8        2.6         4.0        1.2  Iris-versicolor\n",
      "14         5.7        2.8         4.1        1.3  Iris-versicolor\n",
      "15         5.0        3.4         1.5        0.2      Iris-setosa\n",
      "16         5.9        3.2         4.8        1.8  Iris-versicolor\n",
      "17         5.3        3.7         1.5        0.2      Iris-setosa\n",
      "18         5.2        3.5         1.5        0.2      Iris-setosa\n",
      "19         6.1        3.0         4.6        1.4  Iris-versicolor\n",
      "20         6.1        2.8         4.0        1.3  Iris-versicolor\n",
      "21         6.2        2.2         4.5        1.5  Iris-versicolor\n",
      "22         6.7        3.1         5.6        2.4   Iris-virginica\n",
      "23         6.3        2.5         5.0        1.9   Iris-virginica\n",
      "24         5.4        3.7         1.5        0.2      Iris-setosa\n",
      "25         5.0        3.5         1.3        0.3      Iris-setosa\n",
      "26         5.7        2.8         4.5        1.3  Iris-versicolor\n",
      "27         5.0        3.3         1.4        0.2      Iris-setosa\n",
      "28         4.4        3.0         1.3        0.2      Iris-setosa\n",
      "29         6.9        3.2         5.7        2.3   Iris-virginica\n"
     ]
    }
   ],
   "source": [
    "#Print the test data\n",
    "print(train)\n",
    "print(\"---------------------------------------------------\")\n",
    "print(test)"
   ]
  },
  {
   "cell_type": "code",
   "execution_count": 78,
   "id": "488f800c",
   "metadata": {
    "scrolled": false
   },
   "outputs": [
    {
     "name": "stdout",
     "output_type": "stream",
     "text": [
      "True: Iris-virginica => Predicted: Iris-virginica\n",
      "True: Iris-virginica => Predicted: Iris-virginica\n",
      "True: Iris-setosa => Predicted: Iris-setosa\n",
      "True: Iris-virginica => Predicted: Iris-virginica\n",
      "True: Iris-virginica => Predicted: Iris-virginica\n",
      "True: Iris-setosa => Predicted: Iris-setosa\n",
      "True: Iris-setosa => Predicted: Iris-setosa\n",
      "True: Iris-virginica => Predicted: Iris-virginica\n",
      "True: Iris-virginica => Predicted: Iris-virginica\n",
      "True: Iris-versicolor => Predicted: Iris-versicolor\n",
      "True: Iris-versicolor => Predicted: Iris-versicolor\n",
      "True: Iris-versicolor => Predicted: Iris-versicolor\n",
      "True: Iris-virginica => Predicted: Iris-virginica\n",
      "True: Iris-versicolor => Predicted: Iris-versicolor\n",
      "True: Iris-versicolor => Predicted: Iris-versicolor\n",
      "True: Iris-setosa => Predicted: Iris-setosa\n",
      "True: Iris-versicolor => Predicted: Iris-virginica\n",
      "True: Iris-setosa => Predicted: Iris-setosa\n",
      "True: Iris-setosa => Predicted: Iris-setosa\n",
      "True: Iris-versicolor => Predicted: Iris-versicolor\n",
      "True: Iris-versicolor => Predicted: Iris-versicolor\n",
      "True: Iris-versicolor => Predicted: Iris-versicolor\n",
      "True: Iris-virginica => Predicted: Iris-virginica\n",
      "True: Iris-virginica => Predicted: Iris-virginica\n",
      "True: Iris-setosa => Predicted: Iris-setosa\n",
      "True: Iris-setosa => Predicted: Iris-setosa\n",
      "True: Iris-versicolor => Predicted: Iris-versicolor\n",
      "True: Iris-setosa => Predicted: Iris-setosa\n",
      "True: Iris-setosa => Predicted: Iris-setosa\n",
      "True: Iris-virginica => Predicted: Iris-virginica\n"
     ]
    }
   ],
   "source": [
    "#Predicted levels and true levels\n",
    "predicted_labels=tree_model.predict(test)\n",
    "true_labels = test[test.columns[-1]].tolist()\n",
    "\n",
    "for i in range(len(true_labels)):\n",
    "    print(\"True: \" + str(true_labels[i]) + \" => Predicted: \"+ str(predicted_labels[i]))"
   ]
  },
  {
   "cell_type": "code",
   "execution_count": null,
   "id": "d6feeadf",
   "metadata": {},
   "outputs": [],
   "source": []
  }
 ],
 "metadata": {
  "kernelspec": {
   "display_name": "Python 3",
   "language": "python",
   "name": "python3"
  },
  "language_info": {
   "codemirror_mode": {
    "name": "ipython",
    "version": 3
   },
   "file_extension": ".py",
   "mimetype": "text/x-python",
   "name": "python",
   "nbconvert_exporter": "python",
   "pygments_lexer": "ipython3",
   "version": "3.8.8"
  }
 },
 "nbformat": 4,
 "nbformat_minor": 5
}
