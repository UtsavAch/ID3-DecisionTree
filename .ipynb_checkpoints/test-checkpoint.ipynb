{
 "cells": [
  {
   "cell_type": "code",
   "execution_count": 274,
   "id": "fc2a666f",
   "metadata": {},
   "outputs": [],
   "source": [
    "import pandas as pd\n",
    "from id3 import DecisionTree\n",
    "from pre_process import train_test_split, get_target_name, get_classes\n",
    "from metrics import confusion_matrix, evaluate_metrics, count_nodes_and_leaves, tree_depth"
   ]
  },
  {
   "cell_type": "code",
   "execution_count": 275,
   "id": "f83bab2d",
   "metadata": {},
   "outputs": [],
   "source": [
    "# Load the dataset (Uncomment the dataset that you want to train)\n",
    "#file_path = 'weather.csv'\n",
    "#file_path = 'restaurant.csv'\n",
    "file_path = 'iris.csv'\n",
    "data = pd.read_csv(file_path)\n",
    "\n",
    "#NOTE:- There is a SEPARATE NOTEBOOK for \"CONNECT4\" dataset"
   ]
  },
  {
   "cell_type": "code",
   "execution_count": 276,
   "id": "ee529e15",
   "metadata": {},
   "outputs": [],
   "source": [
    "# Remove 'ID' column from the dataset\n",
    "data = data.drop('ID', axis=1)"
   ]
  },
  {
   "cell_type": "code",
   "execution_count": 277,
   "id": "d5983dea",
   "metadata": {},
   "outputs": [],
   "source": [
    "# Split the dataset into train and test\n",
    "# (Note:- Splitting is not so good with small datasets like weather and restaurants, also iris)\n",
    "# Because train set is even smaller than original dataset, thus produce weaker tree\n",
    "train, test = train_test_split(data, 0.8)"
   ]
  },
  {
   "cell_type": "code",
   "execution_count": 278,
   "id": "cbf90c9f",
   "metadata": {
    "scrolled": true
   },
   "outputs": [
    {
     "name": "stdout",
     "output_type": "stream",
     "text": [
      "<petallength>\n",
      "    <=1.9: Iris-setosa (40)\n",
      "    >1.9:\n",
      "        <petalwidth>\n",
      "            <=1.7:\n",
      "                <sepalwidth>\n",
      "                    <=2.8:\n",
      "                        <sepallength>\n",
      "                            <=5.8: Iris-versicolor (15)\n",
      "                            >5.8: Iris-versicolor (8)\n",
      "                    >2.8: Iris-versicolor (16)\n",
      "            >1.7:\n",
      "                <sepallength>\n",
      "                    <=5.9:\n",
      "                        <sepalwidth>\n",
      "                            <=3.1: Iris-virginica (5)\n",
      "                            >3.1: Iris-versicolor (1)\n",
      "                    >5.9: Iris-virginica (31)\n"
     ]
    }
   ],
   "source": [
    "# Instantiate and fit the DecisionTree model\n",
    "tree_model = DecisionTree(max_depth=None) #You can set any depth you want, since these datasets are small you don't need to\n",
    "tree_model.fit(data, get_target_name(data))#Replace parameter train by data, if you want to fit whole dataset\n",
    "tree_model.print_tree(tree_model.tree)"
   ]
  },
  {
   "cell_type": "code",
   "execution_count": 279,
   "id": "742b6f98",
   "metadata": {
    "scrolled": false
   },
   "outputs": [
    {
     "name": "stdout",
     "output_type": "stream",
     "text": [
      "    sepallength sepalwidth petallength petalwidth            class\n",
      "0           6.9        3.2         5.7        2.3   Iris-virginica\n",
      "1           6.3        2.8         5.1        1.5   Iris-virginica\n",
      "2           4.9        2.4         3.3        1.0  Iris-versicolor\n",
      "3           6.0        2.7         5.1        1.6  Iris-versicolor\n",
      "4           5.2        3.4         1.4        0.2      Iris-setosa\n",
      "..          ...        ...         ...        ...              ...\n",
      "115         4.8        3.4         1.9        0.2      Iris-setosa\n",
      "116         7.2        3.6         6.1        2.5   Iris-virginica\n",
      "117         5.8        4.0         1.2        0.2      Iris-setosa\n",
      "118         5.0        3.4         1.6        0.4      Iris-setosa\n",
      "119         5.5        3.5         1.3        0.2      Iris-setosa\n",
      "\n",
      "[120 rows x 5 columns]\n",
      "---------------------------------------------------\n",
      "   sepallength sepalwidth petallength petalwidth            class\n",
      "0          5.8        2.6         4.0        1.2  Iris-versicolor\n",
      "1          7.2        3.2         6.0        1.8   Iris-virginica\n",
      "2          6.0        3.4         4.5        1.6  Iris-versicolor\n",
      "3          6.3        3.4         5.6        2.4   Iris-virginica\n",
      "4          5.4        3.0         4.5        1.5  Iris-versicolor\n",
      "5          6.6        2.9         4.6        1.3  Iris-versicolor\n",
      "6          7.2        3.0         5.8        1.6   Iris-virginica\n",
      "7          6.4        3.2         4.5        1.5  Iris-versicolor\n",
      "8          4.4        3.0         1.3        0.2      Iris-setosa\n",
      "9          4.8        3.0         1.4        0.3      Iris-setosa\n",
      "10         6.1        2.8         4.0        1.3  Iris-versicolor\n",
      "11         5.0        3.6         1.4        0.2      Iris-setosa\n",
      "12         4.8        3.0         1.4        0.1      Iris-setosa\n",
      "13         7.4        2.8         6.1        1.9   Iris-virginica\n",
      "14         6.6        3.0         4.4        1.4  Iris-versicolor\n",
      "15         6.4        2.7         5.3        1.9   Iris-virginica\n",
      "16         6.5        3.0         5.2        2.0   Iris-virginica\n",
      "17         5.5        2.3         4.0        1.3  Iris-versicolor\n",
      "18         5.8        2.7         5.1        1.9   Iris-virginica\n",
      "19         6.1        3.0         4.6        1.4  Iris-versicolor\n",
      "20         5.7        2.8         4.5        1.3  Iris-versicolor\n",
      "21         5.1        3.5         1.4        0.2      Iris-setosa\n",
      "22         5.1        3.4         1.5        0.2      Iris-setosa\n",
      "23         6.7        3.1         5.6        2.4   Iris-virginica\n",
      "24         5.5        4.2         1.4        0.2      Iris-setosa\n",
      "25         6.3        2.7         4.9        1.8   Iris-virginica\n",
      "26         6.2        3.4         5.4        2.3   Iris-virginica\n",
      "27         5.0        3.3         1.4        0.2      Iris-setosa\n",
      "28         5.1        3.8         1.5        0.3      Iris-setosa\n",
      "29         4.4        2.9         1.4        0.2      Iris-setosa\n"
     ]
    }
   ],
   "source": [
    "#Print the test data\n",
    "print(train)\n",
    "print(\"---------------------------------------------------\")\n",
    "print(test)"
   ]
  },
  {
   "cell_type": "code",
   "execution_count": 280,
   "id": "488f800c",
   "metadata": {
    "scrolled": false
   },
   "outputs": [
    {
     "name": "stdout",
     "output_type": "stream",
     "text": [
      "True: Iris-versicolor => Predicted: Iris-versicolor\n",
      "True: Iris-virginica => Predicted: Iris-virginica\n",
      "True: Iris-versicolor => Predicted: Iris-versicolor\n",
      "True: Iris-virginica => Predicted: Iris-virginica\n",
      "True: Iris-versicolor => Predicted: Iris-versicolor\n",
      "True: Iris-versicolor => Predicted: Iris-versicolor\n",
      "True: Iris-virginica => Predicted: Iris-versicolor\n",
      "True: Iris-versicolor => Predicted: Iris-versicolor\n",
      "True: Iris-setosa => Predicted: Iris-setosa\n",
      "True: Iris-setosa => Predicted: Iris-setosa\n",
      "True: Iris-versicolor => Predicted: Iris-versicolor\n",
      "True: Iris-setosa => Predicted: Iris-setosa\n",
      "True: Iris-setosa => Predicted: Iris-setosa\n",
      "True: Iris-virginica => Predicted: Iris-virginica\n",
      "True: Iris-versicolor => Predicted: Iris-versicolor\n",
      "True: Iris-virginica => Predicted: Iris-virginica\n",
      "True: Iris-virginica => Predicted: Iris-virginica\n",
      "True: Iris-versicolor => Predicted: Iris-versicolor\n",
      "True: Iris-virginica => Predicted: Iris-virginica\n",
      "True: Iris-versicolor => Predicted: Iris-versicolor\n",
      "True: Iris-versicolor => Predicted: Iris-versicolor\n",
      "True: Iris-setosa => Predicted: Iris-setosa\n",
      "True: Iris-setosa => Predicted: Iris-setosa\n",
      "True: Iris-virginica => Predicted: Iris-virginica\n",
      "True: Iris-setosa => Predicted: Iris-setosa\n",
      "True: Iris-virginica => Predicted: Iris-virginica\n",
      "True: Iris-virginica => Predicted: Iris-virginica\n",
      "True: Iris-setosa => Predicted: Iris-setosa\n",
      "True: Iris-setosa => Predicted: Iris-setosa\n",
      "True: Iris-setosa => Predicted: Iris-setosa\n"
     ]
    }
   ],
   "source": [
    "#Predicted levels and true levels\n",
    "predicted_labels=tree_model.predict(test)\n",
    "true_labels = test[test.columns[-1]].tolist()\n",
    "\n",
    "for i in range(len(true_labels)):\n",
    "    print(\"True: \" + str(true_labels[i]) + \" => Predicted: \"+ str(predicted_labels[i]))"
   ]
  },
  {
   "cell_type": "code",
   "execution_count": 281,
   "id": "244ed2ed",
   "metadata": {},
   "outputs": [
    {
     "name": "stdout",
     "output_type": "stream",
     "text": [
      "\n",
      "Metrics for class Iris-setosa:\n",
      "Accuracy: 1.00\n",
      "Precision: 1.00\n",
      "Recall: 1.00\n",
      "F1 Score: 1.00\n",
      "\n",
      "Metrics for class Iris-versicolor:\n",
      "Accuracy: 0.97\n",
      "Precision: 0.91\n",
      "Recall: 1.00\n",
      "F1 Score: 0.95\n",
      "\n",
      "Metrics for class Iris-virginica:\n",
      "Accuracy: 0.97\n",
      "Precision: 1.00\n",
      "Recall: 0.90\n",
      "F1 Score: 0.95\n",
      "\n"
     ]
    }
   ],
   "source": [
    "#Evaluate matrix\n",
    "evaluate_metrics(true_labels, predicted_labels, get_classes(data))"
   ]
  },
  {
   "cell_type": "code",
   "execution_count": 282,
   "id": "1c67522e",
   "metadata": {},
   "outputs": [
    {
     "name": "stdout",
     "output_type": "stream",
     "text": [
      "\n",
      "Confusion Matrix\n",
      "\n",
      "10 0 0\n",
      "0 10 0\n",
      "0 1 9\n",
      "\n",
      "Y-axis: True labels\n",
      "Iris-setosa Iris-versicolor Iris-virginica \n",
      "\n",
      "X-axis: Predicted labels\n",
      "Iris-setosa Iris-versicolor Iris-virginica \n",
      "\n"
     ]
    },
    {
     "data": {
      "text/plain": [
       "{'t-Iris-setosa-p-Iris-setosa': 10,\n",
       " 't-Iris-setosa-p-Iris-versicolor': 0,\n",
       " 't-Iris-setosa-p-Iris-virginica': 0,\n",
       " 't-Iris-versicolor-p-Iris-setosa': 0,\n",
       " 't-Iris-versicolor-p-Iris-versicolor': 10,\n",
       " 't-Iris-versicolor-p-Iris-virginica': 0,\n",
       " 't-Iris-virginica-p-Iris-setosa': 0,\n",
       " 't-Iris-virginica-p-Iris-versicolor': 1,\n",
       " 't-Iris-virginica-p-Iris-virginica': 9}"
      ]
     },
     "execution_count": 282,
     "metadata": {},
     "output_type": "execute_result"
    }
   ],
   "source": [
    "#Confusion matrix\n",
    "confusion_matrix(true_labels, predicted_labels, get_classes(data))"
   ]
  },
  {
   "cell_type": "code",
   "execution_count": 283,
   "id": "91cf7676",
   "metadata": {},
   "outputs": [
    {
     "name": "stdout",
     "output_type": "stream",
     "text": [
      "Tree depth:- 8\n",
      "Node count:- 12\n",
      "Leaves count:- 7\n"
     ]
    }
   ],
   "source": [
    "#Tree depth, nodes count and leaves count\n",
    "depth = tree_depth(tree_model.tree)\n",
    "nodes, leaves = count_nodes_and_leaves(tree_model.tree)\n",
    "print(\"Tree depth:- \" + str(depth))\n",
    "print(\"Node count:- \" + str(nodes))\n",
    "print(\"Leaves count:- \" + str(leaves))"
   ]
  },
  {
   "cell_type": "code",
   "execution_count": null,
   "id": "0df4da56",
   "metadata": {},
   "outputs": [],
   "source": []
  }
 ],
 "metadata": {
  "kernelspec": {
   "display_name": "Python 3",
   "language": "python",
   "name": "python3"
  },
  "language_info": {
   "codemirror_mode": {
    "name": "ipython",
    "version": 3
   },
   "file_extension": ".py",
   "mimetype": "text/x-python",
   "name": "python",
   "nbconvert_exporter": "python",
   "pygments_lexer": "ipython3",
   "version": "3.8.8"
  }
 },
 "nbformat": 4,
 "nbformat_minor": 5
}
